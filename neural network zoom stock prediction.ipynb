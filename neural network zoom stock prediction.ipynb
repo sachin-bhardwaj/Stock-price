{
 "cells": [
  {
   "cell_type": "code",
   "execution_count": 708,
   "metadata": {},
   "outputs": [],
   "source": [
    "import talib # technical analysis\n",
    "import pandas as pd\n",
    "import numpy as np"
   ]
  },
  {
   "cell_type": "code",
   "execution_count": 709,
   "metadata": {},
   "outputs": [],
   "source": [
    "import random\n",
    "random.seed(42)"
   ]
  },
  {
   "cell_type": "code",
   "execution_count": 710,
   "metadata": {},
   "outputs": [],
   "source": [
    "dataset = pd.read_csv('ZM.csv')  # data for 1 year 18 may 2019 to 18 may 2020 \n",
    "dataset = df.dropna()"
   ]
  },
  {
   "cell_type": "code",
   "execution_count": 711,
   "metadata": {},
   "outputs": [],
   "source": [
    "df.columns\n",
    "dataset = dataset[['Open', 'High', 'Low', 'Close']]"
   ]
  },
  {
   "cell_type": "code",
   "execution_count": 712,
   "metadata": {},
   "outputs": [
    {
     "data": {
      "text/html": [
       "<div>\n",
       "<style scoped>\n",
       "    .dataframe tbody tr th:only-of-type {\n",
       "        vertical-align: middle;\n",
       "    }\n",
       "\n",
       "    .dataframe tbody tr th {\n",
       "        vertical-align: top;\n",
       "    }\n",
       "\n",
       "    .dataframe thead th {\n",
       "        text-align: right;\n",
       "    }\n",
       "</style>\n",
       "<table border=\"1\" class=\"dataframe\">\n",
       "  <thead>\n",
       "    <tr style=\"text-align: right;\">\n",
       "      <th></th>\n",
       "      <th>Open</th>\n",
       "      <th>High</th>\n",
       "      <th>Low</th>\n",
       "      <th>Close</th>\n",
       "    </tr>\n",
       "  </thead>\n",
       "  <tbody>\n",
       "    <tr>\n",
       "      <th>0</th>\n",
       "      <td>90.099998</td>\n",
       "      <td>91.459999</td>\n",
       "      <td>83.269997</td>\n",
       "      <td>84.669998</td>\n",
       "    </tr>\n",
       "    <tr>\n",
       "      <th>1</th>\n",
       "      <td>86.629997</td>\n",
       "      <td>89.699997</td>\n",
       "      <td>84.500000</td>\n",
       "      <td>85.440002</td>\n",
       "    </tr>\n",
       "    <tr>\n",
       "      <th>2</th>\n",
       "      <td>84.629997</td>\n",
       "      <td>85.699997</td>\n",
       "      <td>82.000000</td>\n",
       "      <td>82.430000</td>\n",
       "    </tr>\n",
       "    <tr>\n",
       "      <th>3</th>\n",
       "      <td>81.250000</td>\n",
       "      <td>81.500000</td>\n",
       "      <td>77.260002</td>\n",
       "      <td>78.760002</td>\n",
       "    </tr>\n",
       "    <tr>\n",
       "      <th>4</th>\n",
       "      <td>80.480003</td>\n",
       "      <td>81.250000</td>\n",
       "      <td>74.199997</td>\n",
       "      <td>76.250000</td>\n",
       "    </tr>\n",
       "  </tbody>\n",
       "</table>\n",
       "</div>"
      ],
      "text/plain": [
       "        Open       High        Low      Close\n",
       "0  90.099998  91.459999  83.269997  84.669998\n",
       "1  86.629997  89.699997  84.500000  85.440002\n",
       "2  84.629997  85.699997  82.000000  82.430000\n",
       "3  81.250000  81.500000  77.260002  78.760002\n",
       "4  80.480003  81.250000  74.199997  76.250000"
      ]
     },
     "execution_count": 712,
     "metadata": {},
     "output_type": "execute_result"
    }
   ],
   "source": [
    "dataset.head()"
   ]
  },
  {
   "cell_type": "code",
   "execution_count": 713,
   "metadata": {},
   "outputs": [],
   "source": [
    "dataset['H-L'] = dataset['High'] - dataset['Low']\n",
    "dataset['O-C'] = dataset['Close'] - dataset['Open']\n",
    "dataset['3day MA'] = dataset['Close'].shift(1).rolling(window = 3).mean()\n",
    "dataset['10day MA'] = dataset['Close'].shift(1).rolling(window = 10).mean()\n",
    "dataset['30day MA'] = dataset['Close'].shift(1).rolling(window = 30).mean()\n",
    "dataset['Std_dev']= dataset['Close'].rolling(5).std()\n",
    "dataset['RSI'] = talib.RSI(dataset['Close'].values, timeperiod = 9)\n",
    "dataset['Williams %R'] = talib.WILLR(dataset['High'].values, dataset['Low'].values, dataset['Close'].values, 7)"
   ]
  },
  {
   "cell_type": "code",
   "execution_count": 714,
   "metadata": {},
   "outputs": [],
   "source": [
    "dataset['Price_Rise'] = np.where(dataset['Close'].shift(-1) > dataset['Close'], 1, 0)"
   ]
  },
  {
   "cell_type": "code",
   "execution_count": 715,
   "metadata": {},
   "outputs": [],
   "source": [
    "dataset=dataset.dropna()"
   ]
  },
  {
   "cell_type": "code",
   "execution_count": 716,
   "metadata": {},
   "outputs": [
    {
     "name": "stdout",
     "output_type": "stream",
     "text": [
      "<class 'pandas.core.frame.DataFrame'>\n",
      "Int64Index: 222 entries, 30 to 251\n",
      "Data columns (total 13 columns):\n",
      " #   Column       Non-Null Count  Dtype  \n",
      "---  ------       --------------  -----  \n",
      " 0   Open         222 non-null    float64\n",
      " 1   High         222 non-null    float64\n",
      " 2   Low          222 non-null    float64\n",
      " 3   Close        222 non-null    float64\n",
      " 4   H-L          222 non-null    float64\n",
      " 5   O-C          222 non-null    float64\n",
      " 6   3day MA      222 non-null    float64\n",
      " 7   10day MA     222 non-null    float64\n",
      " 8   30day MA     222 non-null    float64\n",
      " 9   Std_dev      222 non-null    float64\n",
      " 10  RSI          222 non-null    float64\n",
      " 11  Williams %R  222 non-null    float64\n",
      " 12  Price_Rise   222 non-null    int32  \n",
      "dtypes: float64(12), int32(1)\n",
      "memory usage: 23.4 KB\n"
     ]
    }
   ],
   "source": [
    "dataset.info()"
   ]
  },
  {
   "cell_type": "code",
   "execution_count": 717,
   "metadata": {},
   "outputs": [],
   "source": [
    "X = dataset.iloc[:,4:-1]\n",
    "y= dataset.iloc[:,-1]"
   ]
  },
  {
   "cell_type": "code",
   "execution_count": 718,
   "metadata": {},
   "outputs": [
    {
     "data": {
      "text/html": [
       "<div>\n",
       "<style scoped>\n",
       "    .dataframe tbody tr th:only-of-type {\n",
       "        vertical-align: middle;\n",
       "    }\n",
       "\n",
       "    .dataframe tbody tr th {\n",
       "        vertical-align: top;\n",
       "    }\n",
       "\n",
       "    .dataframe thead th {\n",
       "        text-align: right;\n",
       "    }\n",
       "</style>\n",
       "<table border=\"1\" class=\"dataframe\">\n",
       "  <thead>\n",
       "    <tr style=\"text-align: right;\">\n",
       "      <th></th>\n",
       "      <th>H-L</th>\n",
       "      <th>O-C</th>\n",
       "      <th>3day MA</th>\n",
       "      <th>10day MA</th>\n",
       "      <th>30day MA</th>\n",
       "      <th>Std_dev</th>\n",
       "      <th>RSI</th>\n",
       "      <th>Williams %R</th>\n",
       "    </tr>\n",
       "  </thead>\n",
       "  <tbody>\n",
       "    <tr>\n",
       "      <th>30</th>\n",
       "      <td>2.849998</td>\n",
       "      <td>-1.140000</td>\n",
       "      <td>88.640000</td>\n",
       "      <td>93.149001</td>\n",
       "      <td>88.596000</td>\n",
       "      <td>2.045086</td>\n",
       "      <td>38.533169</td>\n",
       "      <td>-88.967398</td>\n",
       "    </tr>\n",
       "    <tr>\n",
       "      <th>31</th>\n",
       "      <td>6.089996</td>\n",
       "      <td>5.000000</td>\n",
       "      <td>86.926666</td>\n",
       "      <td>91.698000</td>\n",
       "      <td>88.611334</td>\n",
       "      <td>2.283965</td>\n",
       "      <td>49.411988</td>\n",
       "      <td>-20.368409</td>\n",
       "    </tr>\n",
       "    <tr>\n",
       "      <th>32</th>\n",
       "      <td>3.970001</td>\n",
       "      <td>1.739998</td>\n",
       "      <td>87.479998</td>\n",
       "      <td>90.504000</td>\n",
       "      <td>88.778333</td>\n",
       "      <td>2.705692</td>\n",
       "      <td>51.981926</td>\n",
       "      <td>-4.875458</td>\n",
       "    </tr>\n",
       "    <tr>\n",
       "      <th>33</th>\n",
       "      <td>2.900002</td>\n",
       "      <td>-0.680000</td>\n",
       "      <td>89.153330</td>\n",
       "      <td>89.462000</td>\n",
       "      <td>89.093333</td>\n",
       "      <td>2.874444</td>\n",
       "      <td>49.754811</td>\n",
       "      <td>-20.949416</td>\n",
       "    </tr>\n",
       "    <tr>\n",
       "      <th>34</th>\n",
       "      <td>2.169999</td>\n",
       "      <td>0.660003</td>\n",
       "      <td>91.029999</td>\n",
       "      <td>88.491000</td>\n",
       "      <td>89.493333</td>\n",
       "      <td>2.681036</td>\n",
       "      <td>50.119732</td>\n",
       "      <td>-19.195051</td>\n",
       "    </tr>\n",
       "  </tbody>\n",
       "</table>\n",
       "</div>"
      ],
      "text/plain": [
       "         H-L       O-C    3day MA   10day MA   30day MA   Std_dev        RSI  \\\n",
       "30  2.849998 -1.140000  88.640000  93.149001  88.596000  2.045086  38.533169   \n",
       "31  6.089996  5.000000  86.926666  91.698000  88.611334  2.283965  49.411988   \n",
       "32  3.970001  1.739998  87.479998  90.504000  88.778333  2.705692  51.981926   \n",
       "33  2.900002 -0.680000  89.153330  89.462000  89.093333  2.874444  49.754811   \n",
       "34  2.169999  0.660003  91.029999  88.491000  89.493333  2.681036  50.119732   \n",
       "\n",
       "    Williams %R  \n",
       "30   -88.967398  \n",
       "31   -20.368409  \n",
       "32    -4.875458  \n",
       "33   -20.949416  \n",
       "34   -19.195051  "
      ]
     },
     "execution_count": 718,
     "metadata": {},
     "output_type": "execute_result"
    }
   ],
   "source": [
    "X.head()"
   ]
  },
  {
   "cell_type": "code",
   "execution_count": 719,
   "metadata": {},
   "outputs": [],
   "source": [
    "from sklearn.model_selection import train_test_split \n",
    "xtrain, xtest, ytrain, ytest = train_test_split(X, y, test_size =0.2) "
   ]
  },
  {
   "cell_type": "code",
   "execution_count": 720,
   "metadata": {},
   "outputs": [],
   "source": [
    "from sklearn.preprocessing import StandardScaler\n",
    "sc = StandardScaler()"
   ]
  },
  {
   "cell_type": "code",
   "execution_count": 721,
   "metadata": {},
   "outputs": [],
   "source": [
    "xtrain = sc.fit_transform(xtrain)   # standardize makes  mean of all input features =0 and variance =1 If this is not done the neural network might get confused and give a higher weight to those features which have a higher average value than others. \n",
    "xtest = sc.fit_transform(xtest)"
   ]
  },
  {
   "cell_type": "code",
   "execution_count": 722,
   "metadata": {},
   "outputs": [],
   "source": [
    "from keras.models import Sequential\n",
    "from keras.layers import Dense\n",
    "from keras.layers import Dropout"
   ]
  },
  {
   "cell_type": "code",
   "execution_count": 723,
   "metadata": {},
   "outputs": [],
   "source": [
    "classifier = Sequential() "
   ]
  },
  {
   "cell_type": "code",
   "execution_count": 724,
   "metadata": {},
   "outputs": [
    {
     "data": {
      "text/plain": [
       "8"
      ]
     },
     "execution_count": 724,
     "metadata": {},
     "output_type": "execute_result"
    }
   ],
   "source": [
    "x.shape[1]"
   ]
  },
  {
   "cell_type": "code",
   "execution_count": 725,
   "metadata": {},
   "outputs": [],
   "source": [
    "classifier.add(Dense(units=128,kernel_initializer='uniform',activation='relu',input_dim=x.shape[1])) # hidden layer has all 8 columns"
   ]
  },
  {
   "cell_type": "code",
   "execution_count": 726,
   "metadata": {},
   "outputs": [],
   "source": [
    "classifier.add(Dense(units=128,kernel_initializer='uniform',activation='relu')) # 2nd hidden layer"
   ]
  },
  {
   "cell_type": "code",
   "execution_count": 727,
   "metadata": {},
   "outputs": [],
   "source": [
    "classifier.add(Dense(units=1,kernel_initializer='uniform',activation='sigmoid')) # output layer  we would want the prediction to be a probability of market moving upwards"
   ]
  },
  {
   "cell_type": "code",
   "execution_count": 728,
   "metadata": {},
   "outputs": [],
   "source": [
    "classifier.compile(optimizer = 'adam', loss = 'mean_squared_error', metrics = ['accuracy'])"
   ]
  },
  {
   "cell_type": "code",
   "execution_count": 729,
   "metadata": {},
   "outputs": [
    {
     "name": "stdout",
     "output_type": "stream",
     "text": [
      "Epoch 1/100\n",
      "177/177 [==============================] - 0s 2ms/step - loss: 0.2502 - accuracy: 0.5085\n",
      "Epoch 2/100\n",
      "177/177 [==============================] - 0s 222us/step - loss: 0.2489 - accuracy: 0.5367\n",
      "Epoch 3/100\n",
      "177/177 [==============================] - 0s 216us/step - loss: 0.2475 - accuracy: 0.5876\n",
      "Epoch 4/100\n",
      "177/177 [==============================] - 0s 224us/step - loss: 0.2448 - accuracy: 0.5763\n",
      "Epoch 5/100\n",
      "177/177 [==============================] - 0s 211us/step - loss: 0.2406 - accuracy: 0.5932\n",
      "Epoch 6/100\n",
      "177/177 [==============================] - 0s 222us/step - loss: 0.2391 - accuracy: 0.5989\n",
      "Epoch 7/100\n",
      "177/177 [==============================] - 0s 219us/step - loss: 0.2365 - accuracy: 0.6045\n",
      "Epoch 8/100\n",
      "177/177 [==============================] - 0s 229us/step - loss: 0.2343 - accuracy: 0.6102\n",
      "Epoch 9/100\n",
      "177/177 [==============================] - 0s 217us/step - loss: 0.2351 - accuracy: 0.6045\n",
      "Epoch 10/100\n",
      "177/177 [==============================] - 0s 232us/step - loss: 0.2298 - accuracy: 0.6102\n",
      "Epoch 11/100\n",
      "177/177 [==============================] - 0s 217us/step - loss: 0.2334 - accuracy: 0.5989\n",
      "Epoch 12/100\n",
      "177/177 [==============================] - 0s 243us/step - loss: 0.2272 - accuracy: 0.6384\n",
      "Epoch 13/100\n",
      "177/177 [==============================] - 0s 228us/step - loss: 0.2266 - accuracy: 0.6215\n",
      "Epoch 14/100\n",
      "177/177 [==============================] - 0s 239us/step - loss: 0.2235 - accuracy: 0.6384\n",
      "Epoch 15/100\n",
      "177/177 [==============================] - 0s 236us/step - loss: 0.2223 - accuracy: 0.6271\n",
      "Epoch 16/100\n",
      "177/177 [==============================] - 0s 220us/step - loss: 0.2218 - accuracy: 0.6384\n",
      "Epoch 17/100\n",
      "177/177 [==============================] - 0s 232us/step - loss: 0.2203 - accuracy: 0.6271\n",
      "Epoch 18/100\n",
      "177/177 [==============================] - 0s 232us/step - loss: 0.2221 - accuracy: 0.6102\n",
      "Epoch 19/100\n",
      "177/177 [==============================] - 0s 235us/step - loss: 0.2173 - accuracy: 0.6271\n",
      "Epoch 20/100\n",
      "177/177 [==============================] - 0s 228us/step - loss: 0.2136 - accuracy: 0.6441\n",
      "Epoch 21/100\n",
      "177/177 [==============================] - 0s 219us/step - loss: 0.2120 - accuracy: 0.6102\n",
      "Epoch 22/100\n",
      "177/177 [==============================] - 0s 235us/step - loss: 0.2121 - accuracy: 0.6554\n",
      "Epoch 23/100\n",
      "177/177 [==============================] - 0s 217us/step - loss: 0.2088 - accuracy: 0.6271\n",
      "Epoch 24/100\n",
      "177/177 [==============================] - 0s 231us/step - loss: 0.2073 - accuracy: 0.6610\n",
      "Epoch 25/100\n",
      "177/177 [==============================] - 0s 225us/step - loss: 0.2037 - accuracy: 0.6667\n",
      "Epoch 26/100\n",
      "177/177 [==============================] - 0s 228us/step - loss: 0.2067 - accuracy: 0.6441\n",
      "Epoch 27/100\n",
      "177/177 [==============================] - 0s 249us/step - loss: 0.2059 - accuracy: 0.6441\n",
      "Epoch 28/100\n",
      "177/177 [==============================] - 0s 226us/step - loss: 0.2091 - accuracy: 0.6893\n",
      "Epoch 29/100\n",
      "177/177 [==============================] - 0s 219us/step - loss: 0.2059 - accuracy: 0.6780\n",
      "Epoch 30/100\n",
      "177/177 [==============================] - 0s 231us/step - loss: 0.2015 - accuracy: 0.6610\n",
      "Epoch 31/100\n",
      "177/177 [==============================] - 0s 221us/step - loss: 0.1976 - accuracy: 0.6836\n",
      "Epoch 32/100\n",
      "177/177 [==============================] - 0s 236us/step - loss: 0.1956 - accuracy: 0.7006\n",
      "Epoch 33/100\n",
      "177/177 [==============================] - 0s 221us/step - loss: 0.1949 - accuracy: 0.7006\n",
      "Epoch 34/100\n",
      "177/177 [==============================] - 0s 233us/step - loss: 0.1947 - accuracy: 0.6949\n",
      "Epoch 35/100\n",
      "177/177 [==============================] - 0s 218us/step - loss: 0.1899 - accuracy: 0.7119\n",
      "Epoch 36/100\n",
      "177/177 [==============================] - 0s 232us/step - loss: 0.1917 - accuracy: 0.7062\n",
      "Epoch 37/100\n",
      "177/177 [==============================] - 0s 238us/step - loss: 0.1917 - accuracy: 0.7006\n",
      "Epoch 38/100\n",
      "177/177 [==============================] - 0s 231us/step - loss: 0.1868 - accuracy: 0.7006\n",
      "Epoch 39/100\n",
      "177/177 [==============================] - 0s 233us/step - loss: 0.1894 - accuracy: 0.7288\n",
      "Epoch 40/100\n",
      "177/177 [==============================] - 0s 247us/step - loss: 0.1844 - accuracy: 0.7345\n",
      "Epoch 41/100\n",
      "177/177 [==============================] - 0s 370us/step - loss: 0.1841 - accuracy: 0.7006\n",
      "Epoch 42/100\n",
      "177/177 [==============================] - 0s 218us/step - loss: 0.1834 - accuracy: 0.7062\n",
      "Epoch 43/100\n",
      "177/177 [==============================] - 0s 231us/step - loss: 0.1797 - accuracy: 0.7401\n",
      "Epoch 44/100\n",
      "177/177 [==============================] - 0s 239us/step - loss: 0.1790 - accuracy: 0.7175\n",
      "Epoch 45/100\n",
      "177/177 [==============================] - 0s 220us/step - loss: 0.1819 - accuracy: 0.7119\n",
      "Epoch 46/100\n",
      "177/177 [==============================] - 0s 239us/step - loss: 0.1805 - accuracy: 0.7288\n",
      "Epoch 47/100\n",
      "177/177 [==============================] - 0s 216us/step - loss: 0.1768 - accuracy: 0.7458\n",
      "Epoch 48/100\n",
      "177/177 [==============================] - 0s 244us/step - loss: 0.1760 - accuracy: 0.7345\n",
      "Epoch 49/100\n",
      "177/177 [==============================] - 0s 240us/step - loss: 0.1741 - accuracy: 0.7401\n",
      "Epoch 50/100\n",
      "177/177 [==============================] - 0s 223us/step - loss: 0.1716 - accuracy: 0.7571\n",
      "Epoch 51/100\n",
      "177/177 [==============================] - 0s 237us/step - loss: 0.1682 - accuracy: 0.7514\n",
      "Epoch 52/100\n",
      "177/177 [==============================] - 0s 237us/step - loss: 0.1650 - accuracy: 0.7740\n",
      "Epoch 53/100\n",
      "177/177 [==============================] - 0s 243us/step - loss: 0.1653 - accuracy: 0.7684\n",
      "Epoch 54/100\n",
      "177/177 [==============================] - 0s 225us/step - loss: 0.1669 - accuracy: 0.7571\n",
      "Epoch 55/100\n",
      "177/177 [==============================] - 0s 238us/step - loss: 0.1612 - accuracy: 0.7797\n",
      "Epoch 56/100\n",
      "177/177 [==============================] - 0s 222us/step - loss: 0.1601 - accuracy: 0.7684\n",
      "Epoch 57/100\n",
      "177/177 [==============================] - 0s 220us/step - loss: 0.1619 - accuracy: 0.7458\n",
      "Epoch 58/100\n",
      "177/177 [==============================] - 0s 219us/step - loss: 0.1612 - accuracy: 0.7740\n",
      "Epoch 59/100\n",
      "177/177 [==============================] - 0s 221us/step - loss: 0.1620 - accuracy: 0.7458\n",
      "Epoch 60/100\n",
      "177/177 [==============================] - 0s 238us/step - loss: 0.1605 - accuracy: 0.7345\n",
      "Epoch 61/100\n",
      "177/177 [==============================] - 0s 221us/step - loss: 0.1574 - accuracy: 0.7571\n",
      "Epoch 62/100\n",
      "177/177 [==============================] - 0s 231us/step - loss: 0.1527 - accuracy: 0.7627\n",
      "Epoch 63/100\n",
      "177/177 [==============================] - 0s 230us/step - loss: 0.1555 - accuracy: 0.7627\n",
      "Epoch 64/100\n",
      "177/177 [==============================] - 0s 230us/step - loss: 0.1568 - accuracy: 0.7571\n",
      "Epoch 65/100\n",
      "177/177 [==============================] - 0s 229us/step - loss: 0.1520 - accuracy: 0.7966\n",
      "Epoch 66/100\n",
      "177/177 [==============================] - 0s 233us/step - loss: 0.1494 - accuracy: 0.7571\n",
      "Epoch 67/100\n",
      "177/177 [==============================] - 0s 234us/step - loss: 0.1476 - accuracy: 0.7966\n",
      "Epoch 68/100\n",
      "177/177 [==============================] - 0s 226us/step - loss: 0.1487 - accuracy: 0.7853\n",
      "Epoch 69/100\n",
      "177/177 [==============================] - 0s 233us/step - loss: 0.1450 - accuracy: 0.8192\n",
      "Epoch 70/100\n",
      "177/177 [==============================] - 0s 228us/step - loss: 0.1504 - accuracy: 0.7684\n",
      "Epoch 71/100\n",
      "177/177 [==============================] - 0s 233us/step - loss: 0.1445 - accuracy: 0.8136\n",
      "Epoch 72/100\n",
      "177/177 [==============================] - 0s 227us/step - loss: 0.1452 - accuracy: 0.7910\n",
      "Epoch 73/100\n",
      "177/177 [==============================] - 0s 233us/step - loss: 0.1399 - accuracy: 0.8079\n",
      "Epoch 74/100\n",
      "177/177 [==============================] - 0s 219us/step - loss: 0.1393 - accuracy: 0.8023\n",
      "Epoch 75/100\n",
      "177/177 [==============================] - 0s 223us/step - loss: 0.1389 - accuracy: 0.8249\n",
      "Epoch 76/100\n",
      "177/177 [==============================] - 0s 225us/step - loss: 0.1333 - accuracy: 0.8305\n",
      "Epoch 77/100\n",
      "177/177 [==============================] - 0s 229us/step - loss: 0.1350 - accuracy: 0.8136\n",
      "Epoch 78/100\n",
      "177/177 [==============================] - 0s 228us/step - loss: 0.1316 - accuracy: 0.8531\n",
      "Epoch 79/100\n"
     ]
    },
    {
     "name": "stdout",
     "output_type": "stream",
     "text": [
      "177/177 [==============================] - 0s 219us/step - loss: 0.1296 - accuracy: 0.8305\n",
      "Epoch 80/100\n",
      "177/177 [==============================] - 0s 222us/step - loss: 0.1282 - accuracy: 0.8305\n",
      "Epoch 81/100\n",
      "177/177 [==============================] - 0s 224us/step - loss: 0.1270 - accuracy: 0.8362\n",
      "Epoch 82/100\n",
      "177/177 [==============================] - 0s 220us/step - loss: 0.1232 - accuracy: 0.8475\n",
      "Epoch 83/100\n",
      "177/177 [==============================] - 0s 212us/step - loss: 0.1259 - accuracy: 0.8249\n",
      "Epoch 84/100\n",
      "177/177 [==============================] - 0s 219us/step - loss: 0.1235 - accuracy: 0.8362\n",
      "Epoch 85/100\n",
      "177/177 [==============================] - 0s 237us/step - loss: 0.1246 - accuracy: 0.8249\n",
      "Epoch 86/100\n",
      "177/177 [==============================] - 0s 230us/step - loss: 0.1344 - accuracy: 0.7966\n",
      "Epoch 87/100\n",
      "177/177 [==============================] - 0s 220us/step - loss: 0.1304 - accuracy: 0.8418\n",
      "Epoch 88/100\n",
      "177/177 [==============================] - 0s 220us/step - loss: 0.1222 - accuracy: 0.8531\n",
      "Epoch 89/100\n",
      "177/177 [==============================] - 0s 221us/step - loss: 0.1182 - accuracy: 0.8588\n",
      "Epoch 90/100\n",
      "177/177 [==============================] - 0s 230us/step - loss: 0.1161 - accuracy: 0.8418\n",
      "Epoch 91/100\n",
      "177/177 [==============================] - 0s 221us/step - loss: 0.1133 - accuracy: 0.8475\n",
      "Epoch 92/100\n",
      "177/177 [==============================] - 0s 219us/step - loss: 0.1148 - accuracy: 0.8418\n",
      "Epoch 93/100\n",
      "177/177 [==============================] - 0s 224us/step - loss: 0.1093 - accuracy: 0.8588\n",
      "Epoch 94/100\n",
      "177/177 [==============================] - 0s 224us/step - loss: 0.1151 - accuracy: 0.8475\n",
      "Epoch 95/100\n",
      "177/177 [==============================] - 0s 221us/step - loss: 0.1102 - accuracy: 0.8531\n",
      "Epoch 96/100\n",
      "177/177 [==============================] - 0s 226us/step - loss: 0.1127 - accuracy: 0.8588\n",
      "Epoch 97/100\n",
      "177/177 [==============================] - 0s 216us/step - loss: 0.1110 - accuracy: 0.8644\n",
      "Epoch 98/100\n",
      "177/177 [==============================] - 0s 217us/step - loss: 0.1072 - accuracy: 0.8588\n",
      "Epoch 99/100\n",
      "177/177 [==============================] - 0s 230us/step - loss: 0.1040 - accuracy: 0.8644\n",
      "Epoch 100/100\n",
      "177/177 [==============================] - 0s 207us/step - loss: 0.1025 - accuracy: 0.8757\n"
     ]
    },
    {
     "data": {
      "text/plain": [
       "<keras.callbacks.callbacks.History at 0x1c119cbb448>"
      ]
     },
     "execution_count": 729,
     "metadata": {},
     "output_type": "execute_result"
    }
   ],
   "source": [
    "classifier.fit(xtrain, ytrain, batch_size = 10, epochs = 100)"
   ]
  },
  {
   "cell_type": "code",
   "execution_count": 730,
   "metadata": {},
   "outputs": [],
   "source": [
    "ypred = classifier.predict(xtest)\n",
    "ypred = (ypred > 0.5) #storing predictions greater than 0.5"
   ]
  },
  {
   "cell_type": "code",
   "execution_count": 731,
   "metadata": {},
   "outputs": [
    {
     "data": {
      "text/plain": [
       "222"
      ]
     },
     "execution_count": 731,
     "metadata": {},
     "output_type": "execute_result"
    }
   ],
   "source": [
    "len(dataset)\n",
    "#len(ypred)"
   ]
  },
  {
   "cell_type": "code",
   "execution_count": 732,
   "metadata": {},
   "outputs": [],
   "source": [
    "dataset['ypred'] = np.NaN\n",
    "dataset.iloc[(len(dataset)-len(ypred)):,-1:]= ypred\n",
    "#dataset.iloc[(len(dataset)-len(ypred)):,-1:]\n",
    "trade_dataset = dataset.dropna()"
   ]
  },
  {
   "cell_type": "code",
   "execution_count": 733,
   "metadata": {},
   "outputs": [
    {
     "name": "stderr",
     "output_type": "stream",
     "text": [
      "G:\\ProgramFiles\\lib\\site-packages\\ipykernel_launcher.py:1: SettingWithCopyWarning: \n",
      "A value is trying to be set on a copy of a slice from a DataFrame.\n",
      "Try using .loc[row_indexer,col_indexer] = value instead\n",
      "\n",
      "See the caveats in the documentation: https://pandas.pydata.org/pandas-docs/stable/user_guide/indexing.html#returning-a-view-versus-a-copy\n",
      "  \"\"\"Entry point for launching an IPython kernel.\n",
      "G:\\ProgramFiles\\lib\\site-packages\\ipykernel_launcher.py:2: SettingWithCopyWarning: \n",
      "A value is trying to be set on a copy of a slice from a DataFrame.\n",
      "Try using .loc[row_indexer,col_indexer] = value instead\n",
      "\n",
      "See the caveats in the documentation: https://pandas.pydata.org/pandas-docs/stable/user_guide/indexing.html#returning-a-view-versus-a-copy\n",
      "  \n",
      "G:\\ProgramFiles\\lib\\site-packages\\ipykernel_launcher.py:3: SettingWithCopyWarning: \n",
      "A value is trying to be set on a copy of a slice from a DataFrame.\n",
      "Try using .loc[row_indexer,col_indexer] = value instead\n",
      "\n",
      "See the caveats in the documentation: https://pandas.pydata.org/pandas-docs/stable/user_guide/indexing.html#returning-a-view-versus-a-copy\n",
      "  This is separate from the ipykernel package so we can avoid doing imports until\n"
     ]
    }
   ],
   "source": [
    "trade_dataset['Tomorrows Returns'] = 0.\n",
    "trade_dataset['Tomorrows Returns'] = np.log(trade_dataset['Close']/trade_dataset['Close'].shift(1))\n",
    "trade_dataset['Tomorrows Returns'] = trade_dataset['Tomorrows Returns'].shift(-1)\n"
   ]
  },
  {
   "cell_type": "code",
   "execution_count": 734,
   "metadata": {},
   "outputs": [
    {
     "name": "stderr",
     "output_type": "stream",
     "text": [
      "G:\\ProgramFiles\\lib\\site-packages\\ipykernel_launcher.py:1: SettingWithCopyWarning: \n",
      "A value is trying to be set on a copy of a slice from a DataFrame.\n",
      "Try using .loc[row_indexer,col_indexer] = value instead\n",
      "\n",
      "See the caveats in the documentation: https://pandas.pydata.org/pandas-docs/stable/user_guide/indexing.html#returning-a-view-versus-a-copy\n",
      "  \"\"\"Entry point for launching an IPython kernel.\n",
      "G:\\ProgramFiles\\lib\\site-packages\\ipykernel_launcher.py:2: SettingWithCopyWarning: \n",
      "A value is trying to be set on a copy of a slice from a DataFrame.\n",
      "Try using .loc[row_indexer,col_indexer] = value instead\n",
      "\n",
      "See the caveats in the documentation: https://pandas.pydata.org/pandas-docs/stable/user_guide/indexing.html#returning-a-view-versus-a-copy\n",
      "  \n"
     ]
    }
   ],
   "source": [
    "trade_dataset['Strategy Returns'] = 0.\n",
    "trade_dataset['Strategy Returns'] = np.where(trade_dataset['ypred'] == True, trade_dataset['Tomorrows Returns'], - trade_dataset['Tomorrows Returns'])"
   ]
  },
  {
   "cell_type": "code",
   "execution_count": 735,
   "metadata": {},
   "outputs": [
    {
     "name": "stderr",
     "output_type": "stream",
     "text": [
      "G:\\ProgramFiles\\lib\\site-packages\\ipykernel_launcher.py:1: SettingWithCopyWarning: \n",
      "A value is trying to be set on a copy of a slice from a DataFrame.\n",
      "Try using .loc[row_indexer,col_indexer] = value instead\n",
      "\n",
      "See the caveats in the documentation: https://pandas.pydata.org/pandas-docs/stable/user_guide/indexing.html#returning-a-view-versus-a-copy\n",
      "  \"\"\"Entry point for launching an IPython kernel.\n",
      "G:\\ProgramFiles\\lib\\site-packages\\ipykernel_launcher.py:2: SettingWithCopyWarning: \n",
      "A value is trying to be set on a copy of a slice from a DataFrame.\n",
      "Try using .loc[row_indexer,col_indexer] = value instead\n",
      "\n",
      "See the caveats in the documentation: https://pandas.pydata.org/pandas-docs/stable/user_guide/indexing.html#returning-a-view-versus-a-copy\n",
      "  \n"
     ]
    }
   ],
   "source": [
    "trade_dataset['Cumulative Market Returns'] = np.cumsum(trade_dataset['Tomorrows Returns'])\n",
    "trade_dataset['Cumulative Strategy Returns'] = np.cumsum(trade_dataset['Strategy Returns'])\n"
   ]
  },
  {
   "cell_type": "code",
   "execution_count": 736,
   "metadata": {},
   "outputs": [
    {
     "data": {
      "image/png": "[encoded data removed]",
      "text/plain": [
       "<Figure size 720x360 with 1 Axes>"
      ]
     },
     "metadata": {
      "needs_background": "light"
     },
     "output_type": "display_data"
    }
   ],
   "source": [
    "import matplotlib.pyplot as plt\n",
    "plt.figure(figsize=(10,5))\n",
    "plt.plot(trade_dataset['Cumulative Market Returns'], color='r', label='Market Returns')\n",
    "plt.plot(trade_dataset['Cumulative Strategy Returns'], color='g', label='Strategy Returns')\n",
    "plt.legend()\n",
    "plt.show()"
   ]
  },
  {
   "cell_type": "code",
   "execution_count": null,
   "metadata": {},
   "outputs": [],
   "source": [
    "# we got 87% accuracy"
   ]
  }
 ],
 "metadata": {
  "kernelspec": {
   "display_name": "Python 3",
   "language": "python",
   "name": "python3"
  },
  "language_info": {
   "codemirror_mode": {
    "name": "ipython",
    "version": 3
   },
   "file_extension": ".py",
   "mimetype": "text/x-python",
   "name": "python",
   "nbconvert_exporter": "python",
   "pygments_lexer": "ipython3",
   "version": "3.7.6"
  }
 },
 "nbformat": 4,
 "nbformat_minor": 4
}
